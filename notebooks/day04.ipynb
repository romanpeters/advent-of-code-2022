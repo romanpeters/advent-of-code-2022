{
 "cells": [
  {
   "cell_type": "markdown",
   "source": [
    "# --- Day 4: Camp Cleanup ---\n",
    "\n",
    "Space needs to be cleared before the last supplies can be unloaded from the ships, and so several Elves have been assigned the job of cleaning up sections of the camp. Every section has a unique ID number, and each Elf is assigned a range of section IDs.\n",
    "\n",
    "However, as some of the Elves compare their section assignments with each other, they've noticed that many of the assignments overlap. To try to quickly find overlaps and reduce duplicated effort, the Elves pair up and make a big list of the section assignments for each pair (your puzzle input).\n",
    "\n",
    "For example, consider the following list of section assignment pairs:\n",
    "```\n",
    "2-4,6-8\n",
    "2-3,4-5\n",
    "5-7,7-9\n",
    "2-8,3-7\n",
    "6-6,4-6\n",
    "2-6,4-8\n",
    "```\n",
    "For the first few pairs, this list means:\n",
    "\n",
    "Within the first pair of Elves, the first Elf was assigned sections 2-4 (sections 2, 3, and 4), while the second Elf was assigned sections 6-8 (sections 6, 7, 8).\n",
    "The Elves in the second pair were each assigned two sections.\n",
    "The Elves in the third pair were each assigned three sections: one got sections 5, 6, and 7, while the other also got 7, plus 8 and 9.\n",
    "This example list uses single-digit section IDs to make it easier to draw; your actual list might contain larger numbers. Visually, these pairs of section assignments look like this:\n",
    "```\n",
    ".234.....  2-4\n",
    ".....678.  6-8\n",
    "\n",
    ".23......  2-3\n",
    "...45....  4-5\n",
    "\n",
    "....567..  5-7\n",
    "......789  7-9\n",
    "\n",
    ".2345678.  2-8\n",
    "..34567..  3-7\n",
    "\n",
    ".....6...  6-6\n",
    "...456...  4-6\n",
    "\n",
    ".23456...  2-6\n",
    "...45678.  4-8\n",
    "```\n",
    "Some of the pairs have noticed that one of their assignments fully contains the other. For example, 2-8 fully contains 3-7, and 6-6 is fully contained by 4-6. In pairs where one assignment fully contains the other, one Elf in the pair would be exclusively cleaning sections their partner will already be cleaning, so these seem like the most in need of reconsideration. In this example, there are 2 such pairs.\n",
    "\n",
    "In how many assignment pairs does one range fully contain the other?"
   ],
   "metadata": {
    "collapsed": false,
    "pycharm": {
     "name": "#%% md\n"
    }
   }
  },
  {
   "cell_type": "code",
   "execution_count": null,
   "outputs": [],
   "source": [
    "import logging\n",
    "import sys\n",
    "\n",
    "sys.path.append(\"..\")\n",
    "from utilsp import get_logger, get_data, timer, test\n",
    "\n",
    "logger = get_logger(\"day04\", logging.INFO)\n",
    "data = get_data(\"day04\")\n",
    "\n",
    "logger.info(\"initialization complete!\")"
   ],
   "metadata": {
    "collapsed": false,
    "pycharm": {
     "name": "#%%\n"
    }
   }
  },
  {
   "cell_type": "markdown",
   "source": [
    "## Solution Part One\n",
    "Getting the data in the right data structure is most of the work."
   ],
   "metadata": {
    "collapsed": false,
    "pycharm": {
     "name": "#%% md\n"
    }
   }
  },
  {
   "cell_type": "code",
   "execution_count": null,
   "outputs": [],
   "source": [
    "def parse_line(line) -> (set, set):\n",
    "    \"\"\"Creates a tuple with a set of the range for both elves in a line of input\"\"\"\n",
    "    return (\n",
    "        set(range(int(e.split(\"-\")[0]), int(e.split(\"-\")[1]) + 1))\n",
    "        for e in line.split(\",\")\n",
    "    )\n",
    "\n",
    "\n",
    "@timer\n",
    "def part1(input_):\n",
    "    result = 0\n",
    "    for line in input_.split(\"\\n\"):\n",
    "        elf_a, elf_b = parse_line(line)\n",
    "        if elf_a.issubset(elf_b) or elf_b.issubset(elf_a):\n",
    "            result += 1\n",
    "    return result\n",
    "\n",
    "\n",
    "test(func=part1, input_=data.example_input, expected=data.test_answer1)\n",
    "\n",
    "print(\"solution part 1:\", part1(data.input))"
   ],
   "metadata": {
    "collapsed": false,
    "pycharm": {
     "name": "#%%\n"
    }
   }
  },
  {
   "cell_type": "markdown",
   "source": [
    "# --- Part Two ---\n",
    "\n",
    "It seems like there is still quite a bit of duplicate work planned. Instead, the Elves would like to know the number of pairs that overlap at all.\n",
    "\n",
    "In the above example, the first two pairs (2-4,6-8 and 2-3,4-5) don't overlap, while the remaining four pairs (5-7,7-9, 2-8,3-7, 6-6,4-6, and 2-6,4-8) do overlap:\n",
    "\n",
    "5-7,7-9 overlaps in a single section, 7.\n",
    "2-8,3-7 overlaps all of the sections 3 through 7.\n",
    "6-6,4-6 overlaps in a single section, 6.\n",
    "2-6,4-8 overlaps in sections 4, 5, and 6.\n",
    "So, in this example, the number of overlapping assignment pairs is 4.\n",
    "\n",
    "In how many assignment pairs do the ranges overlap?"
   ],
   "metadata": {
    "collapsed": false,
    "pycharm": {
     "name": "#%% md\n"
    }
   }
  },
  {
   "cell_type": "markdown",
   "source": [
    "## Solution Part Two"
   ],
   "metadata": {
    "collapsed": false,
    "pycharm": {
     "name": "#%% md\n"
    }
   }
  },
  {
   "cell_type": "code",
   "execution_count": null,
   "outputs": [],
   "source": [
    "@timer\n",
    "def part2(input_):\n",
    "    result = 0\n",
    "    for line in input_.split(\"\\n\"):\n",
    "        elf_a, elf_b = parse_line(line)\n",
    "        if elf_a & elf_b:\n",
    "            result += 1\n",
    "    return result\n",
    "\n",
    "\n",
    "test(func=part2, input_=data.example_input, expected=data.test_answer2)\n",
    "\n",
    "print(\"solution part 2:\", part2(data.input))"
   ],
   "metadata": {
    "collapsed": false,
    "pycharm": {
     "name": "#%%\n"
    }
   }
  },
  {
   "cell_type": "markdown",
   "source": [
    "# Performance tuning\n",
    "Using min and max instead of a set of the range increases our performace x2."
   ],
   "metadata": {
    "collapsed": false,
    "pycharm": {
     "name": "#%% md\n"
    }
   }
  },
  {
   "cell_type": "code",
   "execution_count": null,
   "outputs": [],
   "source": [
    "def parse_line_faster(line) -> (tuple, tuple):\n",
    "    \"\"\"Creates a tuple with min and max for both elves in a line of input\"\"\"\n",
    "    return (\n",
    "        tuple([int(e.split(\"-\")[0]), int(e.split(\"-\")[1])]) for e in line.split(\",\")\n",
    "    )\n",
    "\n",
    "\n",
    "@timer\n",
    "def part1(input_):\n",
    "    result = 0\n",
    "    for line in input_.split(\"\\n\"):\n",
    "        elf_a, elf_b = parse_line_faster(line)\n",
    "        if (\n",
    "            elf_a[0] <= elf_b[0] <= elf_a[1]\n",
    "            and elf_a[0] <= elf_b[1] <= elf_a[1]\n",
    "            or elf_b[0] <= elf_a[0] <= elf_b[1]\n",
    "            and elf_b[0] <= elf_a[1] <= elf_b[1]\n",
    "        ):\n",
    "            result += 1\n",
    "    return result\n",
    "\n",
    "\n",
    "test(func=part1, input_=data.example_input, expected=data.test_answer1)\n",
    "\n",
    "print(\"solution part 1:\", part1(data.input))"
   ],
   "metadata": {
    "collapsed": false,
    "pycharm": {
     "name": "#%%\n"
    }
   }
  },
  {
   "cell_type": "code",
   "execution_count": null,
   "outputs": [],
   "source": [
    "@timer\n",
    "def part2(input_):\n",
    "    result = 0\n",
    "    for line in input_.split(\"\\n\"):\n",
    "        elf_a, elf_b = parse_line_faster(line)\n",
    "        if elf_a[0] <= elf_b[0] <= elf_a[1] or elf_b[0] <= elf_a[0] <= elf_b[1]:\n",
    "            result += 1\n",
    "    return result\n",
    "\n",
    "\n",
    "test(func=part2, input_=data.example_input, expected=data.test_answer2)\n",
    "\n",
    "print(\"solution part 2:\", part2(data.input))"
   ],
   "metadata": {
    "collapsed": false,
    "pycharm": {
     "name": "#%%\n"
    }
   }
  }
 ],
 "metadata": {
  "kernelspec": {
   "display_name": "Python 3",
   "language": "python",
   "name": "python3"
  },
  "language_info": {
   "codemirror_mode": {
    "name": "ipython",
    "version": 2
   },
   "file_extension": ".py",
   "mimetype": "text/x-python",
   "name": "python",
   "nbconvert_exporter": "python",
   "pygments_lexer": "ipython2",
   "version": "2.7.6"
  }
 },
 "nbformat": 4,
 "nbformat_minor": 0
}
