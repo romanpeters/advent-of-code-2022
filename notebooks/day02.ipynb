{
 "cells": [
  {
   "cell_type": "markdown",
   "source": [
    "# --- Day 2: Rock Paper Scissors ---\n",
    "\n",
    "The Elves begin to set up camp on the beach. To decide whose tent gets to be closest to the snack storage, a giant Rock Paper Scissors tournament is already in progress.\n",
    "\n",
    "Rock Paper Scissors is a game between two players. Each game contains many rounds; in each round, the players each simultaneously choose one of Rock, Paper, or Scissors using a hand shape. Then, a winner for that round is selected: Rock defeats Scissors, Scissors defeats Paper, and Paper defeats Rock. If both players choose the same shape, the round instead ends in a draw.\n",
    "\n",
    "Appreciative of your help yesterday, one Elf gives you an encrypted strategy guide (your puzzle input) that they say will be sure to help you win. \"The first column is what your opponent is going to play: A for Rock, B for Paper, and C for Scissors. The second column--\" Suddenly, the Elf is called away to help with someone's tent.\n",
    "\n",
    "The second column, you reason, must be what you should play in response: X for Rock, Y for Paper, and Z for Scissors. Winning every time would be suspicious, so the responses must have been carefully chosen.\n",
    "\n",
    "The winner of the whole tournament is the player with the highest score. Your total score is the sum of your scores for each round. The score for a single round is the score for the shape you selected (1 for Rock, 2 for Paper, and 3 for Scissors) plus the score for the outcome of the round (0 if you lost, 3 if the round was a draw, and 6 if you won).\n",
    "\n",
    "Since you can't be sure if the Elf is trying to help you or trick you, you should calculate the score you would get if you were to follow the strategy guide.\n",
    "\n",
    "For example, suppose you were given the following strategy guide:\n",
    "```\n",
    "A Y\n",
    "B X\n",
    "C Z\n",
    "```\n",
    "This strategy guide predicts and recommends the following:\n",
    "\n",
    "In the first round, your opponent will choose Rock (A), and you should choose Paper (Y). This ends in a win for you with a score of 8 (2 because you chose Paper + 6 because you won).\n",
    "In the second round, your opponent will choose Paper (B), and you should choose Rock (X). This ends in a loss for you with a score of 1 (1 + 0).\n",
    "The third round is a draw with both players choosing Scissors, giving you a score of 3 + 3 = 6.\n",
    "In this example, if you were to follow the strategy guide, you would get a total score of 15 (8 + 1 + 6).\n",
    "\n",
    "What would your total score be if everything goes exactly according to your strategy guide?"
   ],
   "metadata": {
    "collapsed": false
   }
  },
  {
   "cell_type": "code",
   "execution_count": null,
   "outputs": [],
   "source": [
    "import logging\n",
    "import sys\n",
    "\n",
    "sys.path.append(\"..\")\n",
    "from aoc import get_logger, get_data, timer, test\n",
    "\n",
    "logger = get_logger(\"day02\", logging.INFO)\n",
    "data = get_data(\"day02\")\n",
    "\n",
    "logger.info(\"initialization complete!\")"
   ],
   "metadata": {
    "collapsed": false
   }
  },
  {
   "cell_type": "markdown",
   "source": [
    "## Solution Part One"
   ],
   "metadata": {
    "collapsed": false
   }
  },
  {
   "cell_type": "code",
   "execution_count": null,
   "outputs": [],
   "source": [
    "def parsed(input_: str) -> list:\n",
    "    return list(map(lambda x: x.split(), input_.splitlines()))"
   ],
   "metadata": {
    "collapsed": false
   }
  },
  {
   "cell_type": "markdown",
   "source": [
    "We'll write a function to play RPS, which calculates who wins."
   ],
   "metadata": {
    "collapsed": false
   }
  },
  {
   "cell_type": "code",
   "execution_count": null,
   "outputs": [],
   "source": [
    "# making it more human-readable\n",
    "ROCK, PAPER, SCISSORS = 1, 2, 3\n",
    "LOSE, DRAW, WIN = 0, 3, 6\n",
    "\n",
    "scorebook = {\n",
    "    \"A\": (ROCK, \"rock\"),\n",
    "    \"B\": (PAPER, \"paper\"),\n",
    "    \"C\": (SCISSORS, \"scissors\"),\n",
    "    \"X\": (ROCK, \"rock\"),\n",
    "    \"Y\": (PAPER, \"paper\"),\n",
    "    \"Z\": (SCISSORS, \"scissors\"),\n",
    "}\n",
    "\n",
    "\n",
    "def play(opp_hand: str, hand: str) -> (int, int):\n",
    "    opp_score, score = scorebook[opp_hand][0], scorebook[hand][0]\n",
    "    if score == opp_score:\n",
    "        logger.debug(f\"Your {scorebook[hand][1]} draws to the elf's {scorebook[opp_hand][1]}.\")\n",
    "        return (DRAW, score)\n",
    "    elif (\n",
    "        (opp_score == ROCK and score == PAPER)\n",
    "        or (opp_score == PAPER and score == SCISSORS)\n",
    "        or (opp_score == SCISSORS and score == ROCK)\n",
    "    ):\n",
    "        logger.debug(f\"Your {scorebook[hand][1]} wins to the elf's {scorebook[opp_hand][1]}.\")\n",
    "        return (WIN, score)\n",
    "    else:\n",
    "        logger.debug(f\"Your {scorebook[hand][1]} loses to the elf's {scorebook[opp_hand][1]}.\")\n",
    "        return (LOSE, score)"
   ],
   "metadata": {
    "collapsed": false
   }
  },
  {
   "cell_type": "markdown",
   "source": [
    "We can now try out our RPS function, with random input for our opponent.\n",
    "You can try it out by answering the prompt with A, B or C for rock, paper or scissor.\n",
    "If you leave it empty it will pick your hand at random as well."
   ],
   "metadata": {
    "collapsed": false
   }
  },
  {
   "cell_type": "code",
   "execution_count": null,
   "outputs": [],
   "source": [
    "import random\n",
    "\n",
    "try:\n",
    "    user_hand = input(\"Rock, paper, scissor or random? [A/B/C]\")\n",
    "except Exception as e:  # default to random choice if user input is not supported\n",
    "    logger.warning(e)\n",
    "    user_hand = random.choice([\"A\", \"B\", \"C\"])\n",
    "user_hand = user_hand.upper() if user_hand.upper() in [\"A\", \"B\", \"C\"] else random.choice([\"A\", \"B\", \"C\"])\n",
    "\n",
    "score = sum(play(random.choice([\"A\", \"B\", \"C\"]), user_hand))\n",
    "logger.info(f\"Your score is {score}\")"
   ],
   "metadata": {
    "collapsed": false
   }
  },
  {
   "cell_type": "code",
   "execution_count": null,
   "outputs": [],
   "source": [
    "@timer\n",
    "def part1(input_):\n",
    "    if type(input_) == str:\n",
    "        input_ = parsed(input_)\n",
    "    return sum([sum(play(p[0], p[1])) for p in input_])\n",
    "\n",
    "\n",
    "test(func=part1, input_=data.example_input, expected=data.test_answer1)\n",
    "\n",
    "print(\"solution part 1:\", part1(data.input))"
   ],
   "metadata": {
    "collapsed": false
   }
  },
  {
   "cell_type": "markdown",
   "source": [
    "# --- Part Two ---\n",
    "\n",
    "The Elf finishes helping with the tent and sneaks back over to you. \"Anyway, the second column says how the round needs to end: X means you need to lose, Y means you need to end the round in a draw, and Z means you need to win. Good luck!\"\n",
    "\n",
    "The total score is still calculated in the same way, but now you need to figure out what shape to choose so the round ends as indicated. The example above now goes like this:\n",
    "\n",
    "In the first round, your opponent will choose Rock (A), and you need the round to end in a draw (Y), so you also choose Rock. This gives you a score of 1 + 3 = 4.\n",
    "In the second round, your opponent will choose Paper (B), and you choose Rock so you lose (X) with a score of 1 + 0 = 1.\n",
    "In the third round, you will defeat your opponent's Scissors with Rock for a score of 1 + 6 = 7.\n",
    "Now that you're correctly decrypting the ultra top secret strategy guide, you would get a total score of 12.\n",
    "\n",
    "Following the Elf's instructions for the second column, what would your total score be if everything goes exactly according to your strategy guide?"
   ],
   "metadata": {
    "collapsed": false
   }
  },
  {
   "cell_type": "markdown",
   "source": [
    "## Solution Part Two\n",
    "I' don't feel like changing my RPS function, so I'm just going to adjust the input to make it work with the function from part 1."
   ],
   "metadata": {
    "collapsed": false
   }
  },
  {
   "cell_type": "code",
   "execution_count": null,
   "outputs": [],
   "source": [
    "added_explanation = {\"X\": LOSE, \"Y\": DRAW, \"Z\": WIN}\n",
    "\n",
    "\n",
    "def convert(input_) -> [str]:\n",
    "    adapted_input = []\n",
    "    for p in input_:\n",
    "        for h in [\"A\", \"B\", \"C\"]:  # we'll bruteforce it\n",
    "            if play(opp_hand=p[0], hand=h)[0] == added_explanation[p[1]]:\n",
    "                adapted_input.append((p[0], h))\n",
    "                break\n",
    "    return adapted_input\n",
    "\n",
    "\n",
    "@timer\n",
    "def part2(input_):\n",
    "    adapted_input = convert(parsed(input_))\n",
    "    return part1(adapted_input)\n",
    "\n",
    "\n",
    "test(func=part2, input_=data.example_input, expected=data.test_answer2)\n",
    "\n",
    "print(\"solution part 2:\", part2(data.input))"
   ],
   "metadata": {
    "collapsed": false
   }
  },
  {
   "cell_type": "markdown",
   "source": [
    "# Performance tuning\n",
    "Just for fun, I'll try to speed up the code a bit."
   ],
   "metadata": {
    "collapsed": false
   }
  },
  {
   "cell_type": "code",
   "execution_count": null,
   "outputs": [],
   "source": [
    "outcomes = {\n",
    "    (ROCK, ROCK): DRAW,\n",
    "    (ROCK, PAPER): WIN,\n",
    "    (ROCK, SCISSORS): LOSE,\n",
    "    (PAPER, ROCK): LOSE,\n",
    "    (PAPER, PAPER): DRAW,\n",
    "    (PAPER, SCISSORS): WIN,\n",
    "    (SCISSORS, ROCK): WIN,\n",
    "    (SCISSORS, PAPER): LOSE,\n",
    "    (SCISSORS, SCISSORS): DRAW,\n",
    "}\n",
    "\n",
    "\n",
    "@timer\n",
    "def part1(input_):\n",
    "    score = 0\n",
    "    for p in parsed(input_):\n",
    "        hand = scorebook[p[1]][0]\n",
    "        opp_hand = scorebook[p[0]][0]\n",
    "        score += outcomes[(opp_hand, hand)] + hand\n",
    "    return score\n",
    "\n",
    "\n",
    "test(func=part1, input_=data.example_input, expected=data.test_answer1)\n",
    "\n",
    "print(\"solution part 1:\", part1(data.input))"
   ],
   "metadata": {
    "collapsed": false
   }
  },
  {
   "cell_type": "code",
   "execution_count": null,
   "outputs": [],
   "source": [
    "outcomes_alt = {\n",
    "    (ROCK, DRAW): ROCK,\n",
    "    (ROCK, WIN): PAPER,\n",
    "    (ROCK, LOSE): SCISSORS,\n",
    "    (PAPER, DRAW): PAPER,\n",
    "    (PAPER, LOSE): ROCK,\n",
    "    (PAPER, WIN): SCISSORS,\n",
    "    (SCISSORS, DRAW): SCISSORS,\n",
    "    (SCISSORS, WIN): ROCK,\n",
    "    (SCISSORS, LOSE): PAPER,\n",
    "}\n",
    "\n",
    "\n",
    "@timer\n",
    "def part2(input_):\n",
    "    score = 0\n",
    "    for p in parsed(input_):\n",
    "        outcome = added_explanation[p[1]]\n",
    "        opp_hand = scorebook[p[0]][0]\n",
    "        hand = outcomes_alt[(opp_hand, outcome)]\n",
    "        score += outcome + hand\n",
    "    return score\n",
    "\n",
    "\n",
    "test(func=part2, input_=data.example_input, expected=data.test_answer2)\n",
    "\n",
    "print(\"solution part 2:\", part2(data.input))"
   ],
   "metadata": {
    "collapsed": false
   }
  }
 ],
 "metadata": {
  "kernelspec": {
   "display_name": "Python 3",
   "language": "python",
   "name": "python3"
  },
  "language_info": {
   "codemirror_mode": {
    "name": "ipython",
    "version": 2
   },
   "file_extension": ".py",
   "mimetype": "text/x-python",
   "name": "python",
   "nbconvert_exporter": "python",
   "pygments_lexer": "ipython2",
   "version": "2.7.6"
  }
 },
 "nbformat": 4,
 "nbformat_minor": 0
}
