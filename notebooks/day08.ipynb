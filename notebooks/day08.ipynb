{
 "cells": [
  {
   "cell_type": "markdown",
   "metadata": {
    "pycharm": {
     "name": "#%% md\n"
    }
   },
   "source": [
    "# --- Day 8: Treetop Tree House ---\n",
    "\n",
    "The expedition comes across a peculiar patch of tall trees all planted carefully in a grid. The Elves explain that a previous expedition planted these trees as a reforestation effort. Now, they're curious if this would be a good location for a tree house.\n",
    "\n",
    "First, determine whether there is enough tree cover here to keep a tree house hidden. To do this, you need to count the number of trees that are visible from outside the grid when looking directly along a row or column.\n",
    "\n",
    "The Elves have already launched a quadcopter to generate a map with the height of each tree (your puzzle input). For example:\n",
    "```\n",
    "30373\n",
    "25512\n",
    "65332\n",
    "33549\n",
    "35390\n",
    "```\n",
    "Each tree is represented as a single digit whose value is its height, where 0 is the shortest and 9 is the tallest.\n",
    "\n",
    "A tree is visible if all of the other trees between it and an edge of the grid are shorter than it. Only consider trees in the same row or column; that is, only look up, down, left, or right from any given tree.\n",
    "\n",
    "All of the trees around the edge of the grid are visible - since they are already on the edge, there are no trees to block the view. In this example, that only leaves the interior nine trees to consider:\n",
    "\n",
    "- The top-left 5 is visible from the left and top. (It isn't visible from the right or bottom since other trees of height 5 are in the way.)\n",
    "- The top-middle 5 is visible from the top and right.\n",
    "- The top-right 1 is not visible from any direction; for it to be visible, there would need to only be trees of height 0 between it and an edge.\n",
    "- The left-middle 5 is visible, but only from the right.\n",
    "- The center 3 is not visible from any direction; for it to be visible, there would need to be only trees of at most height 2 between it and an edge.\n",
    "- The right-middle 3 is visible from the right.\n",
    "- In the bottom row, the middle 5 is visible, but the 3 and 4 are not.\n",
    "With 16 trees visible on the edge and another 5 visible in the interior, a total of 21 trees are visible in this arrangement.\n",
    "\n",
    "Consider your map; how many trees are visible from outside the grid?"
   ]
  },
  {
   "cell_type": "code",
   "execution_count": null,
   "metadata": {
    "pycharm": {
     "name": "#%%\n"
    }
   },
   "outputs": [],
   "source": [
    "import logging\n",
    "import sys\n",
    "\n",
    "sys.path.append(\"..\")\n",
    "from utilsp import get_logger, get_data, timer, test\n",
    "\n",
    "logger = get_logger(\"day08\", logging.INFO)\n",
    "data = get_data(\"day08\")\n",
    "\n",
    "logger.info(\"initialization complete!\")"
   ]
  },
  {
   "cell_type": "markdown",
   "metadata": {
    "pycharm": {
     "name": "#%% md\n"
    }
   },
   "source": [
    "## Solution Part One"
   ]
  },
  {
   "cell_type": "code",
   "execution_count": null,
   "outputs": [],
   "source": [
    "import numpy as np\n",
    "\n",
    "\n",
    "def is_visible(tree: tuple, forest: np.array) -> bool:\n",
    "    x, y = tree\n",
    "    height = forest[y][x]\n",
    "    if height == 0:\n",
    "        return False\n",
    "    row = forest[y]\n",
    "    column = forest[:, x]\n",
    "    for tree_line in [row[:x], row[x + 1 :], column[:y], column[y + 1 :]]:\n",
    "        if height > max(tree_line):\n",
    "            return True\n",
    "    return False\n",
    "\n",
    "\n",
    "@timer\n",
    "def part1(input_):\n",
    "    forest = np.array([[int(tree) for tree in row] for row in input_.split(\"\\n\")])\n",
    "    inner = forest[1:-1, 1:-1]\n",
    "    result = forest.size - inner.size  # account for outer row trees\n",
    "\n",
    "    for y in range(1, len(forest) - 1):\n",
    "        for x in range(1, len(forest[y]) - 1):\n",
    "            if is_visible((x, y), forest):\n",
    "                result += 1\n",
    "    return result\n",
    "\n",
    "\n",
    "test(func=part1, input_=data.example_input, expected=data.test_answer1)\n",
    "\n",
    "print(\"solution part 1:\", part1(data.input))"
   ],
   "metadata": {
    "collapsed": false,
    "pycharm": {
     "name": "#%%\n"
    }
   }
  },
  {
   "cell_type": "markdown",
   "source": [
    "# --- Part Two ---\n",
    "\n",
    "Content with the amount of tree cover available, the Elves just need to know the best spot to build their tree house: they would like to be able to see a lot of trees.\n",
    "\n",
    "To measure the viewing distance from a given tree, look up, down, left, and right from that tree; stop if you reach an edge or at the first tree that is the same height or taller than the tree under consideration. (If a tree is right on the edge, at least one of its viewing distances will be zero.)\n",
    "\n",
    "The Elves don't care about distant trees taller than those found by the rules above; the proposed tree house has large eaves to keep it dry, so they wouldn't be able to see higher than the tree house anyway.\n",
    "\n",
    "In the example above, consider the middle 5 in the second row:\n",
    "```\n",
    "30373\n",
    "25512\n",
    "65332\n",
    "33549\n",
    "35390\n",
    "```\n",
    "Looking up, its view is not blocked; it can see 1 tree (of height 3).\n",
    "Looking left, its view is blocked immediately; it can see only 1 tree (of height 5, right next to it).\n",
    "Looking right, its view is not blocked; it can see 2 trees.\n",
    "Looking down, its view is blocked eventually; it can see 2 trees (one of height 3, then the tree of height 5 that blocks its view).\n",
    "A tree's scenic score is found by multiplying together its viewing distance in each of the four directions. For this tree, this is 4 (found by multiplying 1 * 1 * 2 * 2).\n",
    "\n",
    "However, you can do even better: consider the tree of height 5 in the middle of the fourth row:\n",
    "```\n",
    "30373\n",
    "25512\n",
    "65332\n",
    "33549\n",
    "35390\n",
    "```\n",
    "Looking up, its view is blocked at 2 trees (by another tree with a height of 5).\n",
    "Looking left, its view is not blocked; it can see 2 trees.\n",
    "Looking down, its view is also not blocked; it can see 1 tree.\n",
    "Looking right, its view is blocked at 2 trees (by a massive tree of height 9).\n",
    "This tree's scenic score is 8 (2 * 2 * 1 * 2); this is the ideal spot for the tree house.\n",
    "\n",
    "Consider each tree on your map. What is the highest scenic score possible for any tree?"
   ],
   "metadata": {
    "collapsed": false,
    "pycharm": {
     "name": "#%% md\n"
    }
   }
  },
  {
   "cell_type": "markdown",
   "source": [
    "## Solution Part Two"
   ],
   "metadata": {
    "collapsed": false,
    "pycharm": {
     "name": "#%% md\n"
    }
   }
  },
  {
   "cell_type": "code",
   "execution_count": null,
   "outputs": [],
   "source": [
    "def viewing_distance(height, sight):\n",
    "    distance = 0\n",
    "    for tree in sight:\n",
    "        distance += 1\n",
    "        if tree >= height:\n",
    "            break\n",
    "    return distance\n",
    "\n",
    "\n",
    "def scenic_score(tree: tuple, forest: np.array):\n",
    "    x, y = tree\n",
    "    height = forest[y][x]\n",
    "    return np.prod(\n",
    "        [\n",
    "            viewing_distance(height, sight)\n",
    "            for sight in [\n",
    "                forest[y][:x][::-1],  # left\n",
    "                forest[y][x + 1 :],  # right\n",
    "                forest[:, x][:y][::-1],  # up\n",
    "                forest[:, x][y + 1 :],\n",
    "            ]\n",
    "        ]\n",
    "    )  # down\n",
    "\n",
    "\n",
    "@timer\n",
    "def part2(input_):\n",
    "    forest = np.array([[int(tree) for tree in row] for row in input_.split(\"\\n\")])\n",
    "    return max(\n",
    "        [\n",
    "            scenic_score((x, y), forest)\n",
    "            for y in range(len(forest))\n",
    "            for x in range(len(forest[y]))\n",
    "        ]\n",
    "    )\n",
    "\n",
    "\n",
    "test(func=part1, input_=data.example_input, expected=data.test_answer1)\n",
    "\n",
    "print(\"solution part 2:\", part2(data.input))"
   ],
   "metadata": {
    "collapsed": false,
    "pycharm": {
     "name": "#%%\n"
    }
   }
  }
 ],
 "metadata": {
  "celltoolbar": "Tags",
  "kernelspec": {
   "display_name": "Python 3 (ipykernel)",
   "language": "python",
   "name": "python3"
  },
  "language_info": {
   "codemirror_mode": {
    "name": "ipython",
    "version": 3
   },
   "file_extension": ".py",
   "mimetype": "text/x-python",
   "name": "python",
   "nbconvert_exporter": "python",
   "pygments_lexer": "ipython3",
   "version": "3.10.8"
  }
 },
 "nbformat": 4,
 "nbformat_minor": 1
}