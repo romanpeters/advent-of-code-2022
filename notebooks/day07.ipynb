{
 "cells": [
  {
   "cell_type": "markdown",
   "metadata": {},
   "source": [
    "# --- Day 7: No Space Left On Device ---\n",
    "\n",
    "You can hear birds chirping and raindrops hitting leaves as the expedition proceeds. Occasionally, you can even hear much louder sounds in the distance; how big do the animals get out here, anyway?\n",
    "\n",
    "The device the Elves gave you has problems with more than just its communication system. You try to run a system update:\n",
    "```\n",
    "$ system-update --please --pretty-please-with-sugar-on-top\n",
    "Error: No space left on device\n",
    "Perhaps you can delete some files to make space for the update?\n",
    "```\n",
    "You browse around the filesystem to assess the situation and save the resulting terminal output (your puzzle input). For example:\n",
    "```\n",
    "$ cd /\n",
    "$ ls\n",
    "dir a\n",
    "14848514 b.txt\n",
    "8504156 c.dat\n",
    "dir d\n",
    "$ cd a\n",
    "$ ls\n",
    "dir e\n",
    "29116 f\n",
    "2557 g\n",
    "62596 h.lst\n",
    "$ cd e\n",
    "$ ls\n",
    "584 i\n",
    "$ cd ..\n",
    "$ cd ..\n",
    "$ cd d\n",
    "$ ls\n",
    "4060174 j\n",
    "8033020 d.log\n",
    "5626152 d.ext\n",
    "7214296 k\n",
    "```\n",
    "The filesystem consists of a tree of files (plain data) and directories (which can contain other directories or files). The outermost directory is called /. You can navigate around the filesystem, moving into or out of directories and listing the contents of the directory you're currently in.\n",
    "\n",
    "Within the terminal output, lines that begin with $ are commands you executed, very much like some modern computers:\n",
    "\n",
    "`cd` means change directory. This changes which directory is the current directory, but the specific result depends on the argument:\n",
    "- `cd x` moves in one level: it looks in the current directory for the directory named x and makes it the current directory.\n",
    "- `cd ..` moves out one level: it finds the directory that contains the current directory, then makes that directory the current directory.\n",
    "- `cd /` switches the current directory to the outermost directory, /.\n",
    "`ls` means list. It prints out all of the files and directories immediately contained by the current directory:\n",
    "- `123 abc` means that the current directory contains a file named abc with size 123.\n",
    "- `dir xyz` means that the current directory contains a directory named xyz.\n",
    "Given the commands and output in the example above, you can determine that the filesystem looks visually like this:\n",
    "```\n",
    "- / (dir)\n",
    "  - a (dir)\n",
    "    - e (dir)\n",
    "      - i (file, size=584)\n",
    "    - f (file, size=29116)\n",
    "    - g (file, size=2557)\n",
    "    - h.lst (file, size=62596)\n",
    "  - b.txt (file, size=14848514)\n",
    "  - c.dat (file, size=8504156)\n",
    "  - d (dir)\n",
    "    - j (file, size=4060174)\n",
    "    - d.log (file, size=8033020)\n",
    "    - d.ext (file, size=5626152)\n",
    "    - k (file, size=7214296)\n",
    "```\n",
    "Here, there are four directories: / (the outermost directory), a and d (which are in /), and e (which is in a). These directories also contain files of various sizes.\n",
    "\n",
    "Since the disk is full, your first step should probably be to find directories that are good candidates for deletion. To do this, you need to determine the total size of each directory. The total size of a directory is the sum of the sizes of the files it contains, directly or indirectly. (Directories themselves do not count as having any intrinsic size.)\n",
    "\n",
    "The total sizes of the directories above can be found as follows:\n",
    "\n",
    "The total size of directory e is 584 because it contains a single file i of size 584 and no other directories.\n",
    "The directory a has total size 94853 because it contains files f (size 29116), g (size 2557), and h.lst (size 62596), plus file i indirectly (a contains e which contains i).\n",
    "Directory d has total size 24933642.\n",
    "As the outermost directory, / contains every file. Its total size is 48381165, the sum of the size of every file.\n",
    "To begin, find all of the directories with a total size of at most 100000, then calculate the sum of their total sizes. In the example above, these directories are a and e; the sum of their total sizes is 95437 (94853 + 584). (As in this example, this process can count files more than once!)\n",
    "\n",
    "Find all of the directories with a total size of at most 100000. What is the sum of the total sizes of those directories?"
   ]
  },
  {
   "cell_type": "code",
   "execution_count": null,
   "metadata": {},
   "outputs": [],
   "source": [
    "import logging\n",
    "import sys\n",
    "\n",
    "sys.path.append(\"..\")\n",
    "from aoc import get_logger, get_data, timer, test\n",
    "\n",
    "logger = get_logger(\"day07\", logging.INFO)\n",
    "data = get_data(\"day07\")\n",
    "\n",
    "logger.info(\"initialization complete!\")"
   ]
  },
  {
   "cell_type": "markdown",
   "metadata": {},
   "source": [
    "## Solution Part One\n",
    "Today's puzzle required a little more thinking. To get our input into a suitable structure we'll parse it into a list of commands, each paired with their output."
   ]
  },
  {
   "cell_type": "code",
   "execution_count": null,
   "outputs": [],
   "source": [
    "def parsed(input_) -> list:\n",
    "    \"\"\"Parse input into a list of pairs (command, [output])\"\"\"\n",
    "    result = []\n",
    "    command = \"\"\n",
    "    output = []\n",
    "    for line in input_.split(\"\\n\"):\n",
    "        if line.startswith(\"$\"):\n",
    "            if command:\n",
    "                result.append((command, output))\n",
    "                output = []\n",
    "            command = line[2:]\n",
    "        else:\n",
    "            output.append(line)\n",
    "    result.append((command, output))\n",
    "    return result"
   ],
   "metadata": {
    "collapsed": false
   }
  },
  {
   "cell_type": "markdown",
   "source": [
    "Next, we'll create a class which abstracts the terminal interface. Using the methods of this class we can run the commands from our input and generate the file structure needed to solve the puzzle. Note that we use the inverse of the `ls` command: Instead of outputting which files exist, it creates files based on the input of an `ls` command."
   ],
   "metadata": {
    "collapsed": false
   }
  },
  {
   "cell_type": "code",
   "execution_count": null,
   "outputs": [],
   "source": [
    "class CommandLine(object):\n",
    "    def __init__(self):\n",
    "        self.cwd = \"/\"\n",
    "        self.files = {}  # {path: size}\n",
    "        self.dirs = []\n",
    "\n",
    "    def cd(self, arg: str):\n",
    "        \"\"\"Change current working directory\"\"\"\n",
    "        if arg == \"/\":\n",
    "            self.cwd = \"/\"\n",
    "        elif arg == \"..\":\n",
    "            self.cwd = \"/\".join(self.cwd.split(\"/\")[:-2]) + \"/\"\n",
    "        else:\n",
    "            self.cwd += f\"{arg}/\"\n",
    "\n",
    "    def sl(self, output: list):\n",
    "        \"\"\"Inverse ls, create files and directories using the output of ls\"\"\"\n",
    "        for line in output:\n",
    "            if not len(line.split()) == 2:\n",
    "                print(line)\n",
    "            value, name = line.split()\n",
    "            if value == \"dir\":\n",
    "                self.dirs.append(f\"{self.cwd}{name}\")\n",
    "            else:\n",
    "                self.files[f\"{self.cwd}/{name}\"] = int(value)"
   ],
   "metadata": {
    "collapsed": false
   }
  },
  {
   "cell_type": "markdown",
   "source": [
    "We'll add a function to generate the file system from the input, using our CommandLine class and the commands from the input. We'll also add a function to get the size of any directory, using its path and the complete file system. It runs through the file system's dict of known by the files, and sums the size of the files whose file path contains the path of the directory we're checking."
   ],
   "metadata": {
    "collapsed": false
   }
  },
  {
   "cell_type": "code",
   "execution_count": null,
   "outputs": [],
   "source": [
    "def build_file_system(parsed_input) -> CommandLine:\n",
    "    cli = CommandLine()\n",
    "\n",
    "    for command in parsed_input:\n",
    "        cmd, *arg = command[0].split()\n",
    "        if cmd == \"cd\":\n",
    "            cli.cd(*arg)\n",
    "        elif cmd == \"ls\":\n",
    "            cli.sl(command[1])\n",
    "    return cli\n",
    "\n",
    "\n",
    "def get_dir_size(dir_path, cli):\n",
    "    return sum([size for path, size in cli.files.items() if path.startswith(dir_path)])"
   ],
   "metadata": {
    "collapsed": false
   }
  },
  {
   "cell_type": "markdown",
   "source": [
    "To complete part 1 we parse the input and feed it to our CommandLine class using the build_file_system function. This will run all the commands from the input on it, so our cli object contains all the info on the files and dirs we need for the solution."
   ],
   "metadata": {
    "collapsed": false
   }
  },
  {
   "cell_type": "code",
   "execution_count": null,
   "outputs": [],
   "source": [
    "@timer\n",
    "def part1(input_):\n",
    "    parsed_input = parsed(input_)\n",
    "    cli = build_file_system(parsed_input)\n",
    "\n",
    "    dir_sizes = [get_dir_size(s, cli) for s in cli.dirs]\n",
    "    return sum([s for s in dir_sizes if s <= 100000])\n",
    "\n",
    "\n",
    "test(func=part1, input_=data.example_input, expected=data.test_answer1)\n",
    "\n",
    "print(\"solution part 1:\", part1(data.input))"
   ],
   "metadata": {
    "collapsed": false
   }
  },
  {
   "cell_type": "markdown",
   "metadata": {},
   "source": [
    "# --- Part Two ---\n",
    "\n",
    "Now, you're ready to choose a directory to delete.\n",
    "\n",
    "The total disk space available to the filesystem is 70000000. To run the update, you need unused space of at least 30000000. You need to find a directory you can delete that will free up enough space to run the update.\n",
    "\n",
    "In the example above, the total size of the outermost directory (and thus the total amount of used space) is 48381165; this means that the size of the unused space must currently be 21618835, which isn't quite the 30000000 required by the update. Therefore, the update still requires a directory with total size of at least 8381165 to be deleted before it can run.\n",
    "\n",
    "To achieve this, you have the following options:\n",
    "```\n",
    "Delete directory e, which would increase unused space by 584.\n",
    "Delete directory a, which would increase unused space by 94853.\n",
    "Delete directory d, which would increase unused space by 24933642.\n",
    "Delete directory /, which would increase unused space by 48381165.\n",
    "````\n",
    "Directories e and a are both too small; deleting them would not free up enough space. However, directories d and / are both big enough! Between these, choose the smallest: d, increasing unused space by 24933642.\n",
    "\n",
    "Find the smallest directory that, if deleted, would free up enough space on the filesystem to run the update. What is the total size of that directory?"
   ]
  },
  {
   "cell_type": "markdown",
   "metadata": {},
   "source": [
    "## Solution Part Two\n",
    "Similar to part 1, but with some more variables."
   ]
  },
  {
   "cell_type": "code",
   "execution_count": null,
   "outputs": [],
   "source": [
    "@timer\n",
    "def part2(input_):\n",
    "    parsed_input = parsed(input_)\n",
    "    cli = build_file_system(parsed_input)\n",
    "    space_used = get_dir_size(\"/\", cli)\n",
    "    unused_space = 70000000 - space_used\n",
    "    space_needed = 30000000 - unused_space\n",
    "\n",
    "    dir_sizes = [get_dir_size(d, cli) for d in cli.dirs]\n",
    "    return min([s for s in dir_sizes if s >= space_needed])\n",
    "\n",
    "\n",
    "test(func=part1, input_=data.example_input, expected=data.test_answer1)\n",
    "\n",
    "print(\"solution part 2:\", part2(data.input))"
   ],
   "metadata": {
    "collapsed": false
   }
  }
 ],
 "metadata": {
  "celltoolbar": "Tags",
  "kernelspec": {
   "display_name": "Python 3 (ipykernel)",
   "language": "python",
   "name": "python3"
  },
  "language_info": {
   "codemirror_mode": {
    "name": "ipython",
    "version": 3
   },
   "file_extension": ".py",
   "mimetype": "text/x-python",
   "name": "python",
   "nbconvert_exporter": "python",
   "pygments_lexer": "ipython3",
   "version": "3.10.8"
  }
 },
 "nbformat": 4,
 "nbformat_minor": 1
}
